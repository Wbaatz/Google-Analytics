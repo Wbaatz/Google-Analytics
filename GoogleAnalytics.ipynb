{
  "nbformat": 4,
  "nbformat_minor": 0,
  "metadata": {
    "colab": {
      "provenance": [],
      "authorship_tag": "ABX9TyMhX9C3IXGv3q/RYSgy09Wa",
      "include_colab_link": true
    },
    "kernelspec": {
      "name": "python3",
      "display_name": "Python 3"
    },
    "language_info": {
      "name": "python"
    }
  },
  "cells": [
    {
      "cell_type": "markdown",
      "metadata": {
        "id": "view-in-github",
        "colab_type": "text"
      },
      "source": [
        "<a href=\"https://colab.research.google.com/github/Wbaatz/Google-Analytics/blob/main/GoogleAnalytics.ipynb\" target=\"_parent\"><img src=\"https://colab.research.google.com/assets/colab-badge.svg\" alt=\"Open In Colab\"/></a>"
      ]
    },
    {
      "cell_type": "code",
      "execution_count": 1,
      "metadata": {
        "colab": {
          "base_uri": "https://localhost:8080/",
          "height": 516
        },
        "id": "YXkIolePl-d3",
        "outputId": "93bce87f-ff11-4fa5-a8b8-0f37e3b8a80f"
      },
      "outputs": [
        {
          "output_type": "stream",
          "name": "stdout",
          "text": [
            "Collecting google-analytics-data\n",
            "  Downloading google_analytics_data-0.18.18-py3-none-any.whl.metadata (9.4 kB)\n",
            "Requirement already satisfied: google-api-core!=2.0.*,!=2.1.*,!=2.10.*,!=2.2.*,!=2.3.*,!=2.4.*,!=2.5.*,!=2.6.*,!=2.7.*,!=2.8.*,!=2.9.*,<3.0.0,>=1.34.1 in /usr/local/lib/python3.11/dist-packages (from google-api-core[grpc]!=2.0.*,!=2.1.*,!=2.10.*,!=2.2.*,!=2.3.*,!=2.4.*,!=2.5.*,!=2.6.*,!=2.7.*,!=2.8.*,!=2.9.*,<3.0.0,>=1.34.1->google-analytics-data) (2.24.2)\n",
            "Requirement already satisfied: google-auth!=2.24.0,!=2.25.0,<3.0.0,>=2.14.1 in /usr/local/lib/python3.11/dist-packages (from google-analytics-data) (2.38.0)\n",
            "Requirement already satisfied: proto-plus<2.0.0,>=1.22.3 in /usr/local/lib/python3.11/dist-packages (from google-analytics-data) (1.26.1)\n",
            "Requirement already satisfied: protobuf!=4.21.0,!=4.21.1,!=4.21.2,!=4.21.3,!=4.21.4,!=4.21.5,<7.0.0,>=3.20.2 in /usr/local/lib/python3.11/dist-packages (from google-analytics-data) (5.29.4)\n",
            "Requirement already satisfied: googleapis-common-protos<2.0.0,>=1.56.2 in /usr/local/lib/python3.11/dist-packages (from google-api-core!=2.0.*,!=2.1.*,!=2.10.*,!=2.2.*,!=2.3.*,!=2.4.*,!=2.5.*,!=2.6.*,!=2.7.*,!=2.8.*,!=2.9.*,<3.0.0,>=1.34.1->google-api-core[grpc]!=2.0.*,!=2.1.*,!=2.10.*,!=2.2.*,!=2.3.*,!=2.4.*,!=2.5.*,!=2.6.*,!=2.7.*,!=2.8.*,!=2.9.*,<3.0.0,>=1.34.1->google-analytics-data) (1.70.0)\n",
            "Requirement already satisfied: requests<3.0.0,>=2.18.0 in /usr/local/lib/python3.11/dist-packages (from google-api-core!=2.0.*,!=2.1.*,!=2.10.*,!=2.2.*,!=2.3.*,!=2.4.*,!=2.5.*,!=2.6.*,!=2.7.*,!=2.8.*,!=2.9.*,<3.0.0,>=1.34.1->google-api-core[grpc]!=2.0.*,!=2.1.*,!=2.10.*,!=2.2.*,!=2.3.*,!=2.4.*,!=2.5.*,!=2.6.*,!=2.7.*,!=2.8.*,!=2.9.*,<3.0.0,>=1.34.1->google-analytics-data) (2.32.3)\n",
            "Requirement already satisfied: grpcio<2.0dev,>=1.33.2 in /usr/local/lib/python3.11/dist-packages (from google-api-core[grpc]!=2.0.*,!=2.1.*,!=2.10.*,!=2.2.*,!=2.3.*,!=2.4.*,!=2.5.*,!=2.6.*,!=2.7.*,!=2.8.*,!=2.9.*,<3.0.0,>=1.34.1->google-analytics-data) (1.71.0)\n",
            "Requirement already satisfied: grpcio-status<2.0.dev0,>=1.33.2 in /usr/local/lib/python3.11/dist-packages (from google-api-core[grpc]!=2.0.*,!=2.1.*,!=2.10.*,!=2.2.*,!=2.3.*,!=2.4.*,!=2.5.*,!=2.6.*,!=2.7.*,!=2.8.*,!=2.9.*,<3.0.0,>=1.34.1->google-analytics-data) (1.71.0)\n",
            "Requirement already satisfied: cachetools<6.0,>=2.0.0 in /usr/local/lib/python3.11/dist-packages (from google-auth!=2.24.0,!=2.25.0,<3.0.0,>=2.14.1->google-analytics-data) (5.5.2)\n",
            "Requirement already satisfied: pyasn1-modules>=0.2.1 in /usr/local/lib/python3.11/dist-packages (from google-auth!=2.24.0,!=2.25.0,<3.0.0,>=2.14.1->google-analytics-data) (0.4.2)\n",
            "Requirement already satisfied: rsa<5,>=3.1.4 in /usr/local/lib/python3.11/dist-packages (from google-auth!=2.24.0,!=2.25.0,<3.0.0,>=2.14.1->google-analytics-data) (4.9.1)\n",
            "Requirement already satisfied: pyasn1<0.7.0,>=0.6.1 in /usr/local/lib/python3.11/dist-packages (from pyasn1-modules>=0.2.1->google-auth!=2.24.0,!=2.25.0,<3.0.0,>=2.14.1->google-analytics-data) (0.6.1)\n",
            "Requirement already satisfied: charset-normalizer<4,>=2 in /usr/local/lib/python3.11/dist-packages (from requests<3.0.0,>=2.18.0->google-api-core!=2.0.*,!=2.1.*,!=2.10.*,!=2.2.*,!=2.3.*,!=2.4.*,!=2.5.*,!=2.6.*,!=2.7.*,!=2.8.*,!=2.9.*,<3.0.0,>=1.34.1->google-api-core[grpc]!=2.0.*,!=2.1.*,!=2.10.*,!=2.2.*,!=2.3.*,!=2.4.*,!=2.5.*,!=2.6.*,!=2.7.*,!=2.8.*,!=2.9.*,<3.0.0,>=1.34.1->google-analytics-data) (3.4.1)\n",
            "Requirement already satisfied: idna<4,>=2.5 in /usr/local/lib/python3.11/dist-packages (from requests<3.0.0,>=2.18.0->google-api-core!=2.0.*,!=2.1.*,!=2.10.*,!=2.2.*,!=2.3.*,!=2.4.*,!=2.5.*,!=2.6.*,!=2.7.*,!=2.8.*,!=2.9.*,<3.0.0,>=1.34.1->google-api-core[grpc]!=2.0.*,!=2.1.*,!=2.10.*,!=2.2.*,!=2.3.*,!=2.4.*,!=2.5.*,!=2.6.*,!=2.7.*,!=2.8.*,!=2.9.*,<3.0.0,>=1.34.1->google-analytics-data) (3.10)\n",
            "Requirement already satisfied: urllib3<3,>=1.21.1 in /usr/local/lib/python3.11/dist-packages (from requests<3.0.0,>=2.18.0->google-api-core!=2.0.*,!=2.1.*,!=2.10.*,!=2.2.*,!=2.3.*,!=2.4.*,!=2.5.*,!=2.6.*,!=2.7.*,!=2.8.*,!=2.9.*,<3.0.0,>=1.34.1->google-api-core[grpc]!=2.0.*,!=2.1.*,!=2.10.*,!=2.2.*,!=2.3.*,!=2.4.*,!=2.5.*,!=2.6.*,!=2.7.*,!=2.8.*,!=2.9.*,<3.0.0,>=1.34.1->google-analytics-data) (2.4.0)\n",
            "Requirement already satisfied: certifi>=2017.4.17 in /usr/local/lib/python3.11/dist-packages (from requests<3.0.0,>=2.18.0->google-api-core!=2.0.*,!=2.1.*,!=2.10.*,!=2.2.*,!=2.3.*,!=2.4.*,!=2.5.*,!=2.6.*,!=2.7.*,!=2.8.*,!=2.9.*,<3.0.0,>=1.34.1->google-api-core[grpc]!=2.0.*,!=2.1.*,!=2.10.*,!=2.2.*,!=2.3.*,!=2.4.*,!=2.5.*,!=2.6.*,!=2.7.*,!=2.8.*,!=2.9.*,<3.0.0,>=1.34.1->google-analytics-data) (2025.4.26)\n",
            "Downloading google_analytics_data-0.18.18-py3-none-any.whl (188 kB)\n",
            "\u001b[?25l   \u001b[90m━━━━━━━━━━━━━━━━━━━━━━━━━━━━━━━━━━━━━━━━\u001b[0m \u001b[32m0.0/188.4 kB\u001b[0m \u001b[31m?\u001b[0m eta \u001b[36m-:--:--\u001b[0m\r\u001b[2K   \u001b[90m━━━━━━━━━━━━━━━━━━━━━━━━━━━━━━━━━━━━━━━━\u001b[0m \u001b[32m188.4/188.4 kB\u001b[0m \u001b[31m11.6 MB/s\u001b[0m eta \u001b[36m0:00:00\u001b[0m\n",
            "\u001b[?25hInstalling collected packages: google-analytics-data\n",
            "Successfully installed google-analytics-data-0.18.18\n"
          ]
        },
        {
          "output_type": "display_data",
          "data": {
            "application/vnd.colab-display-data+json": {
              "pip_warning": {
                "packages": [
                  "google"
                ]
              },
              "id": "078ed524caaa423a9cee2e5e3da10755"
            }
          },
          "metadata": {}
        }
      ],
      "source": [
        "pip install google-analytics-data"
      ]
    },
    {
      "cell_type": "code",
      "source": [
        "import os\n",
        "from google.analytics.data_v1beta import BetaAnalyticsDataClient\n",
        "from google.analytics.data_v1beta.types import DateRange, Metric, Dimension, RunReportRequest\n",
        "\n",
        "# Set the path to your service account JSON key\n",
        "os.environ['GOOGLE_APPLICATION_CREDENTIALS'] = 'testmedium.json'\n",
        "\n",
        "# Initialize the client\n",
        "client = BetaAnalyticsDataClient()\n",
        "\n",
        "# Define the GA4 property ID\n",
        "property_id = '476630684'  # Replace with your Property ID\n",
        "\n",
        "# Create a request to fetch active users\n",
        "request = RunReportRequest(\n",
        "    property=f'properties/{property_id}',\n",
        "    date_ranges=[DateRange(start_date='7daysAgo', end_date='yesterday')],\n",
        "    metrics=[Metric(name='activeUsers')],\n",
        "    dimensions=[Dimension(name='date')]\n",
        ")\n",
        "\n",
        "# Run the report\n",
        "response = client.run_report(request)\n",
        "\n",
        "# Process the response\n",
        "print('Report result:')\n",
        "for row in response.rows:\n",
        "    date = row.dimension_values[0].value\n",
        "    active_users = row.metric_values[0].value\n",
        "    print(f'Date: {date}, Active Users: {active_users}')"
      ],
      "metadata": {
        "colab": {
          "base_uri": "https://localhost:8080/"
        },
        "id": "6gK0aoFsmC98",
        "outputId": "c86d6cc3-0007-4c14-d4f1-987bd8766a89"
      },
      "execution_count": 2,
      "outputs": [
        {
          "output_type": "stream",
          "name": "stdout",
          "text": [
            "Report result:\n",
            "Date: 20250506, Active Users: 2\n",
            "Date: 20250508, Active Users: 2\n",
            "Date: 20250507, Active Users: 1\n",
            "Date: 20250509, Active Users: 1\n"
          ]
        }
      ]
    },
    {
      "cell_type": "code",
      "source": [
        "from google.analytics.data_v1beta import BetaAnalyticsDataClient\n",
        "from google.analytics.data_v1beta.types import DateRange, Metric, Dimension, RunReportRequest, RunRealtimeReportRequest\n",
        "\n",
        "# Initialize the GA4 client\n",
        "client = BetaAnalyticsDataClient()\n",
        "\n",
        "# Replace with your GA4 Property ID\n",
        "PROPERTY_ID = '476630684'  # Update with your actual Property ID\n",
        "\n",
        "\n",
        "def RunReport():\n",
        "    request = RunReportRequest(\n",
        "    property=f'properties/{property_id}',\n",
        "    date_ranges=[DateRange(start_date='7daysAgo', end_date='yesterday')],\n",
        "    metrics=[Metric(name='activeUsers')],\n",
        "    dimensions=[Dimension(name='date')]\n",
        "    )\n",
        "    response = client.run_report(request)\n",
        "    return response;\n",
        "\n",
        "def getRealtimeUsers():\n",
        "    \"\"\"Fetch the number of active users in real-time.\"\"\"\n",
        "    request = RunRealtimeReportRequest(\n",
        "        property=f'properties/{PROPERTY_ID}',\n",
        "        metrics=[Metric(name='activeUsers')],\n",
        "    )\n",
        "    response = client.run_realtime_report(request)\n",
        "    active_users = response.rows[0].metric_values[0].value if response.rows else '0'\n",
        "    return {'activeUsers': int(active_users)}\n",
        "\n",
        "def getUserLocations():\n",
        "    \"\"\"Fetch user locations (country) for the last 7 days.\"\"\"\n",
        "    request = RunReportRequest(\n",
        "        property=f'properties/{PROPERTY_ID}',\n",
        "        date_ranges=[DateRange(start_date='7daysAgo', end_date='yesterday')],\n",
        "        metrics=[Metric(name='activeUsers')],\n",
        "        dimensions=[Dimension(name='country')]\n",
        "    )\n",
        "    response = client.run_report(request)\n",
        "    locations = [\n",
        "        {'country': row.dimension_values[0].value, 'activeUsers': int(row.metric_values[0].value)}\n",
        "        for row in response.rows\n",
        "    ]\n",
        "    return locations\n",
        "\n",
        "def getTechnicalAnalytics():\n",
        "    \"\"\"Fetch technical metrics (device category, browser) for the last 7 days.\"\"\"\n",
        "    request = RunReportRequest(\n",
        "        property=f'properties/{PROPERTY_ID}',\n",
        "        date_ranges=[DateRange(start_date='7daysAgo', end_date='yesterday')],\n",
        "        metrics=[Metric(name='activeUsers')],\n",
        "        dimensions=[Dimension(name='deviceCategory'), Dimension(name='browser')]\n",
        "    )\n",
        "    response = client.run_report(request)\n",
        "    technical_data = [\n",
        "        {\n",
        "            'deviceCategory': row.dimension_values[0].value,\n",
        "            'browser': row.dimension_values[1].value,\n",
        "            'activeUsers': int(row.metric_values[0].value)\n",
        "        }\n",
        "        for row in response.rows\n",
        "    ]\n",
        "    return technical_data\n",
        "\n",
        "\n",
        "\n",
        "# Test the functions\n",
        "def test_ga4_functions():\n",
        "    print(\"Testing getRealtimeUsers:\")\n",
        "    print(getRealtimeUsers())\n",
        "    print(\"\\nTesting getUserLocations:\")\n",
        "    print(getUserLocations())\n",
        "    print(\"\\nTesting getTechnicalAnalytics:\")\n",
        "    print(getTechnicalAnalytics())\n",
        "    print(\"\\nTesting Report:\")\n",
        "    print(RunReport())\n",
        "# Run the tests\n",
        "test_ga4_functions()"
      ],
      "metadata": {
        "colab": {
          "base_uri": "https://localhost:8080/"
        },
        "id": "QJDHdXUcnbb3",
        "outputId": "0a56b347-85e7-4e88-fc07-06d489537f39"
      },
      "execution_count": 8,
      "outputs": [
        {
          "output_type": "stream",
          "name": "stdout",
          "text": [
            "Testing getRealtimeUsers:\n",
            "{'activeUsers': 1}\n",
            "\n",
            "Testing getUserLocations:\n",
            "[{'country': 'Pakistan', 'activeUsers': 4}, {'country': 'United States', 'activeUsers': 1}]\n",
            "\n",
            "Testing getTechnicalAnalytics:\n",
            "[{'deviceCategory': 'desktop', 'browser': 'Chrome', 'activeUsers': 2}, {'deviceCategory': 'desktop', 'browser': 'Edge', 'activeUsers': 1}, {'deviceCategory': 'desktop', 'browser': 'Opera', 'activeUsers': 1}]\n",
            "\n",
            "Testing Report:\n",
            "dimension_headers {\n",
            "  name: \"date\"\n",
            "}\n",
            "metric_headers {\n",
            "  name: \"activeUsers\"\n",
            "  type_: TYPE_INTEGER\n",
            "}\n",
            "rows {\n",
            "  dimension_values {\n",
            "    value: \"20250506\"\n",
            "  }\n",
            "  metric_values {\n",
            "    value: \"2\"\n",
            "  }\n",
            "}\n",
            "rows {\n",
            "  dimension_values {\n",
            "    value: \"20250508\"\n",
            "  }\n",
            "  metric_values {\n",
            "    value: \"2\"\n",
            "  }\n",
            "}\n",
            "rows {\n",
            "  dimension_values {\n",
            "    value: \"20250507\"\n",
            "  }\n",
            "  metric_values {\n",
            "    value: \"1\"\n",
            "  }\n",
            "}\n",
            "rows {\n",
            "  dimension_values {\n",
            "    value: \"20250509\"\n",
            "  }\n",
            "  metric_values {\n",
            "    value: \"1\"\n",
            "  }\n",
            "}\n",
            "row_count: 4\n",
            "metadata {\n",
            "  currency_code: \"PKR\"\n",
            "  time_zone: \"Asia/Karachi\"\n",
            "}\n",
            "kind: \"analyticsData#runReport\"\n",
            "\n"
          ]
        }
      ]
    }
  ]
}